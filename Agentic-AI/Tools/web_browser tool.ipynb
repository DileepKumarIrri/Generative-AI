{
 "cells": [
  {
   "cell_type": "markdown",
   "metadata": {},
   "source": [
    "<a >\n",
    "    <img src=\"https://lilianweng.github.io/posts/2023-06-23-agent/agent-overview.png\" alt=\"Agent Overview\" width=\"500\">\n",
    "</a>\n",
    "\n",
    "**Reference Link: https://lilianweng.github.io/posts/2023-06-23-agent/**"
   ]
  },
  {
   "cell_type": "code",
   "execution_count": null,
   "metadata": {},
   "outputs": [],
   "source": [
    "%pip install -qU duckduckgo-search langchain-community"
   ]
  },
  {
   "cell_type": "markdown",
   "metadata": {},
   "source": [
    "**1.Simple search**"
   ]
  },
  {
   "cell_type": "code",
   "execution_count": null,
   "metadata": {},
   "outputs": [],
   "source": [
    "from langchain_community.tools import DuckDuckGoSearchRun\n",
    "\n",
    "search = DuckDuckGoSearchRun()\n",
    "result=search.invoke(\"Hello World!\")\n",
    "print(result)"
   ]
  },
  {
   "cell_type": "markdown",
   "metadata": {},
   "source": [
    "**2.Simple search with more details**"
   ]
  },
  {
   "cell_type": "code",
   "execution_count": null,
   "metadata": {},
   "outputs": [],
   "source": [
    "import json\n",
    "from langchain_community.tools import DuckDuckGoSearchResults\n",
    "import pandas as pd\n",
    "\n",
    "search = DuckDuckGoSearchResults(num_results=100, output_format=\"json\")\n",
    "result = search.invoke(\"India\")\n",
    "\n",
    "parsed_result = json.loads(result)   # Parsing the result string into a JSON object\n",
    "\n",
    "# Extracting snippets and links\n",
    "snippets = [item['snippet'] for item in parsed_result]\n",
    "links = [item['link'] for item in parsed_result]\n",
    "\n",
    "# Displaying the extracted snippets and links\n",
    "print(\"\\n Total\",len(snippets) ,\"Snippets:\\n\", snippets)\n",
    "print(\"\\nTotal \",len(links) ,\"Links:\\n\", links)\n",
    "\n",
    "# Creating a DataFrame\n",
    "df = pd.DataFrame({\n",
    "    'Snippet': snippets,\n",
    "    'Link': links\n",
    "})\n",
    "\n",
    "# df.to_excel('search_results.xlsx')\n",
    "# print(\"DataFrame has been saved to 'search_results.xlsx'\")\n"
   ]
  },
  {
   "cell_type": "markdown",
   "metadata": {},
   "source": [
    "**3. Filtering Search Results for News**"
   ]
  },
  {
   "cell_type": "code",
   "execution_count": null,
   "metadata": {},
   "outputs": [],
   "source": [
    "\n",
    "search = DuckDuckGoSearchResults(backend=\"news\")   # Filtering Search Results for News\n",
    "result=search.invoke(\"open AI's operator\")\n",
    "print(result)"
   ]
  },
  {
   "cell_type": "code",
   "execution_count": null,
   "metadata": {},
   "outputs": [],
   "source": []
  }
 ],
 "metadata": {
  "kernelspec": {
   "display_name": "venv_agentic",
   "language": "python",
   "name": "python3"
  },
  "language_info": {
   "codemirror_mode": {
    "name": "ipython",
    "version": 3
   },
   "file_extension": ".py",
   "mimetype": "text/x-python",
   "name": "python",
   "nbconvert_exporter": "python",
   "pygments_lexer": "ipython3",
   "version": "3.13.0"
  }
 },
 "nbformat": 4,
 "nbformat_minor": 2
}
