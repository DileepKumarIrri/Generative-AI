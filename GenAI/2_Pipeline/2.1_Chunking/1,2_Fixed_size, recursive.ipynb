{
 "cells": [
  {
   "cell_type": "markdown",
   "metadata": {},
   "source": [
    "# Chunkings\n",
    "\n",
    "1. Fixed Size Chunking\n",
    "2. Recursive Split Chunking\n",
    "3. Document Based Chunking\n",
    "4. Semantic Chunking\n",
    "5. Agentic Chunking"
   ]
  },
  {
   "cell_type": "markdown",
   "metadata": {},
   "source": [
    "# 1.Fixed Size Chunking"
   ]
  },
  {
   "cell_type": "markdown",
   "metadata": {},
   "source": [
    "* It breaks down the text into chunks of a specified number of characters, regardless of their content or structure.\n"
   ]
  },
  {
   "cell_type": "code",
   "execution_count": null,
   "metadata": {},
   "outputs": [],
   "source": [
    "! pip install -U langchain-text-splitters"
   ]
  },
  {
   "cell_type": "code",
   "execution_count": null,
   "metadata": {},
   "outputs": [],
   "source": [
    "# Chunking without Metadata\n",
    "\n",
    "\n",
    "from langchain_text_splitters import CharacterTextSplitter\n",
    "\n",
    "# Step 1: Initialize the text splitter with the desired parameters\n",
    "text_splitter = CharacterTextSplitter(\n",
    "    separator=\"\\n\\n\",         # Split text based on double newlines\n",
    "    chunk_size=1000,          # Each chunk will be a maximum of 1000 characters long\n",
    "    chunk_overlap=200,        # Overlap 200 characters between consecutive chunks\n",
    "    length_function=len,      # Use Python's len() function to calculate chunk length\n",
    "    is_separator_regex=False  # Treat the separator as plain text, not a regular expression\n",
    ")\n",
    "\n",
    "\n",
    "# Step 2: Load the long document to be split\n",
    "with open(\"C:/Users/admin/OneDrive/Desktop/Gen-AI/0_Dataset/Math.txt\", encoding='utf-8') as f:\n",
    "    text = f.read()\n",
    "\n",
    "# Step 3: Split the text into chunks without metadata\n",
    "chunks= text_splitter.create_documents([text])\n",
    "\n",
    "# Step 4: Print the first chunk and total number of chunks\n",
    "print('Total number of chunks is:',len(chunks))\n",
    "print(chunks[0].page_content[-150:])  # Output is a plain chunk of text\n",
    "\n",
    "\n",
    "# Step 5: Print maximum and minimum chunk sizes\n",
    "chunk_sizes = [len(chunk.page_content) for chunk in chunks]\n",
    "print('Maximum chunk size among all:', max(chunk_sizes))\n",
    "print('Minimum chunk size among all:', min(chunk_sizes))\n",
    "\n"
   ]
  },
  {
   "cell_type": "code",
   "execution_count": null,
   "metadata": {},
   "outputs": [],
   "source": [
    "# Chunking with Metadata\n",
    "\n",
    "from langchain_text_splitters import CharacterTextSplitter\n",
    "\n",
    "# Step 1: Load the long document to be split\n",
    "with open(\"C:/Users/admin/OneDrive/Desktop/Gen-AI/0_Dataset/Math.txt\", encoding='utf-8') as f:\n",
    "    text = f.read()\n",
    "\n",
    "# Step 2: Initialize the text splitter with the desired parameters\n",
    "text_splitter = CharacterTextSplitter(\n",
    "    separator=\"\\n\\n\",         # Split text based on double newlines\n",
    "    chunk_size=1000,          # Each chunk will be a maximum of 1000 characters long\n",
    "    chunk_overlap=200,        # Overlap 200 characters between consecutive chunks\n",
    "    length_function=len,      # Use Python's len() function to calculate chunk length\n",
    "    is_separator_regex=False  # Treat the separator as plain text, not a regular expression\n",
    ")\n",
    "\n",
    "# Step 3: Split the text into chunks without metadata\n",
    "chunks_without_metadata = text_splitter.split_text(text)\n",
    "\n",
    "# Step 4: Add metadata to each chunk\n",
    "metadata = []\n",
    "for idx, chunk in enumerate(chunks_without_metadata):\n",
    "    chunk_metadata = {\n",
    "        \"document_id\": \"Math.txt\",     # The name of the original document\n",
    "        \"chunk_index\": idx + 1,        # Index of the chunk (starting from 1)\n",
    "        \"text_length\": len(chunk),     # Length of the chunk\n",
    "        \"start_position\": sum(len(c) for c in chunks_without_metadata[:idx]),  # Starting position of this chunk in the full text\n",
    "        \"end_position\": sum(len(c) for c in chunks_without_metadata[:idx+1]),  # Ending position of this chunk in the full text\n",
    "        \"section_title\": \"Math Section\",  # You can modify this based on document structure, if applicable\n",
    "        \"timestamp\": \"2025-01-18\"        # Current timestamp or any other relevant info\n",
    "    }\n",
    "    metadata.append(chunk_metadata)\n",
    "\n",
    "# Step 5: Combine the chunks with their metadata\n",
    "chunks_with_metadata = text_splitter.create_documents([text], metadatas=metadata)\n",
    "\n",
    "# Step 6: Print metadata for the first chunk and total number of chunks\n",
    "print(\"Total number of chunks:\", len(chunks_with_metadata))\n",
    "print(\"First chunk:\", chunks_with_metadata[0])\n",
    "\n",
    "# Step 7: Print maximum and minimum chunk sizes\n",
    "chunk_sizes = [len(chunk.page_content) for chunk in chunks_with_metadata]\n",
    "print('Maximum chunk size among all:', max(chunk_sizes))\n",
    "print('Minimum chunk size among all:', min(chunk_sizes))\n",
    "\n"
   ]
  },
  {
   "cell_type": "markdown",
   "metadata": {},
   "source": [
    "# 2.Recursive Split Chunking "
   ]
  },
  {
   "cell_type": "markdown",
   "metadata": {},
   "source": [
    "* It divides text into smaller chunks using a set of separators in a hierarchical and iterative manner.\n",
    "* If the chunks don't meet the desired size, the method recursively applies different separators until the desired size is achieved."
   ]
  },
  {
   "cell_type": "code",
   "execution_count": null,
   "metadata": {},
   "outputs": [],
   "source": [
    "# Chunking without Metadata\n",
    "\n",
    "from langchain_text_splitters import RecursiveCharacterTextSplitter\n",
    "\n",
    "recursive_text_splitter = RecursiveCharacterTextSplitter(\n",
    "    # Set a really small chunk size, just to show.\n",
    "    chunk_size=1000,\n",
    "    chunk_overlap=200,\n",
    "    length_function=len,\n",
    "    is_separator_regex=False,\n",
    "    separators=[\"\\n\\n\", \"\\n\", \" \", \"\"]\n",
    ")\n",
    "\n",
    "# Step 2: Load the long document to be split\n",
    "with open(\"C:/Users/admin/OneDrive/Desktop/Gen-AI/0_Dataset/Math.txt\", encoding='utf-8') as f:\n",
    "    text = f.read()\n",
    "\n",
    "# Step 3: Split the text into chunks without metadata\n",
    "chunks= recursive_text_splitter.create_documents([text])\n",
    "\n",
    "# Step 4: Print the first chunk and total number of chunks\n",
    "print('Total number of chunks is:',len(chunks))\n",
    "print(chunks[0].page_content[-100:])  # Output is a plain chunk of text\n",
    "\n",
    "# Step 5: Print maximum and minimum chunk sizes\n",
    "chunk_sizes = [len(chunk.page_content) for chunk in chunks]\n",
    "print('Maximum chunk size among all:', max(chunk_sizes))\n",
    "print('Minimum chunk size among all:', min(chunk_sizes))\n"
   ]
  },
  {
   "cell_type": "code",
   "execution_count": null,
   "metadata": {},
   "outputs": [],
   "source": [
    "# Chunking with Metadata\n",
    "\n",
    "from langchain_text_splitters import RecursiveCharacterTextSplitter\n",
    "\n",
    "# Step 1: Initialize the RecursiveCharacterTextSplitter\n",
    "recursive_text_splitter = RecursiveCharacterTextSplitter(\n",
    "    chunk_size=1000,          # Maximum chunk size of 1000 characters\n",
    "    chunk_overlap=200,        # 200 characters overlap between chunks\n",
    "    length_function=len,      # Use Python's len() function to calculate chunk length\n",
    "    is_separator_regex=False, # Treat the separators as plain text, not a regular expression\n",
    "    separators=[\"\\n\\n\", \"\\n\", \" \", \"\"]  # Multiple split options\n",
    ")\n",
    "\n",
    "# Step 2: Load the long document to be split\n",
    "with open(\"C:/Users/admin/OneDrive/Desktop/Gen-AI/0_Dataset/Math.txt\", encoding='utf-8') as f:\n",
    "    text = f.read()\n",
    "\n",
    "# Step 3: Split the text into chunks without metadata\n",
    "chunks = recursive_text_splitter.create_documents([text])\n",
    "\n",
    "# Step 4: Add metadata to each chunk\n",
    "metadata = []\n",
    "for idx, chunk in enumerate(chunks):\n",
    "    chunk_metadata = {\n",
    "        \"document_id\": \"Math.txt\",        # The name of the original document\n",
    "        \"chunk_index\": idx + 1,           # Index of the chunk (starting from 1)\n",
    "        \"text_length\": len(chunk.page_content),  # Length of the chunk\n",
    "        \"start_position\": sum(len(c.page_content) for c in chunks[:idx]),  # Starting position of this chunk in the full text\n",
    "        \"end_position\": sum(len(c.page_content) for c in chunks[:idx + 1]),  # Ending position of this chunk in the full text\n",
    "        \"section_title\": \"Math Section\",  # You can modify this based on document structure, if applicable\n",
    "        \"timestamp\": \"2025-01-18\"         # Current timestamp or any other relevant info\n",
    "    }\n",
    "    metadata.append(chunk_metadata)\n",
    "\n",
    "# Step 5: Combine the chunks with their metadata\n",
    "for idx, chunk in enumerate(chunks):\n",
    "    chunk.metadata = metadata[idx]  # Assign metadata to each chunk\n",
    "\n",
    "# Step 6: Print the total number of chunks and the first chunk\n",
    "print('Total number of chunks is:', len(chunks))\n",
    "print(\"First chunk:\", chunks[0])  # Output is a chunk of text (last 100 characters)\n",
    "\n",
    "# Step 7: Print maximum and minimum chunk sizes\n",
    "chunk_sizes = [len(chunk.page_content) for chunk in chunks]  # Use page_content to get chunk size\n",
    "print('Maximum chunk size among all:', max(chunk_sizes))\n",
    "print('Minimum chunk size among all:', min(chunk_sizes))\n"
   ]
  },
  {
   "cell_type": "markdown",
   "metadata": {},
   "source": [
    "3."
   ]
  },
  {
   "cell_type": "code",
   "execution_count": null,
   "metadata": {},
   "outputs": [],
   "source": []
  }
 ],
 "metadata": {
  "kernelspec": {
   "display_name": "virtual",
   "language": "python",
   "name": "python3"
  },
  "language_info": {
   "codemirror_mode": {
    "name": "ipython",
    "version": 3
   },
   "file_extension": ".py",
   "mimetype": "text/x-python",
   "name": "python",
   "nbconvert_exporter": "python",
   "pygments_lexer": "ipython3",
   "version": "3.13.0"
  }
 },
 "nbformat": 4,
 "nbformat_minor": 2
}
