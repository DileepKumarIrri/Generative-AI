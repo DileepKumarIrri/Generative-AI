{
 "cells": [
  {
   "cell_type": "code",
   "execution_count": null,
   "metadata": {},
   "outputs": [],
   "source": [
    "# Install necessary libraries\n",
    "! pip install llama-index-embeddings-openai\n",
    "! pip install llama-index-readers-file\n"
   ]
  },
  {
   "cell_type": "code",
   "execution_count": null,
   "metadata": {},
   "outputs": [],
   "source": [
    "# Import required libraries\n",
    "from llama_index.core import SimpleDirectoryReader\n",
    "from llama_index.core.node_parser import SemanticSplitterNodeParser, SentenceSplitter\n",
    "from llama_index.embeddings.openai import OpenAIEmbedding\n",
    "import os\n",
    "\n",
    "# Set OpenAI API key and initialize embedding model\n",
    "os.environ[\"OPENAI_API_KEY\"] = \"......\"\n",
    "embed_model = OpenAIEmbedding()\n",
    "\n",
    "# Initialize splitters\n",
    "splitter = SemanticSplitterNodeParser(buffer_size=1, breakpoint_percentile_threshold=95, embed_model=embed_model)\n",
    "base_splitter = SentenceSplitter(chunk_size=512)\n",
    "\n",
    "# Load documents\n",
    "documents = SimpleDirectoryReader(input_files=[\"C:/Users/admin/OneDrive/Desktop/Chunking_Embedding/Dataset/simple.html\"]).load_data()\n",
    "\n",
    "# Apply semantic chunking\n",
    "nodes = splitter.get_nodes_from_documents(documents)\n",
    "\n",
    "# Inspect chunks\n",
    "print(\"Chunk 1: IBM 1401\\n\", nodes[1].get_content(), \"\\n\")\n",
    "print(\"Chunk 2: Personal Computer + College\\n\", nodes[2].get_content(), \"\\n\")"
   ]
  },
  {
   "cell_type": "code",
   "execution_count": null,
   "metadata": {},
   "outputs": [],
   "source": [
    "# Setup query engine\n",
    "from llama_index.core import VectorStoreIndex\n",
    "from llama_index.core.response.notebook_utils import display_source_node\n",
    "\n",
    "# Create index for semantic chunks and baseline chunks\n",
    "vector_index = VectorStoreIndex(nodes)\n",
    "query_engine = vector_index.as_query_engine()\n",
    "base_nodes = base_splitter.split_documents(documents)\n",
    "base_vector_index = VectorStoreIndex(base_nodes)\n",
    "base_query_engine = base_vector_index.as_query_engine()\n",
    "\n",
    "# Run query\n",
    "response = query_engine.query(\"Explain some formula's?\")\n",
    "print(\"Response:\\n\", str(response), \"\\n\")\n",
    "\n",
    "# Display source nodes\n",
    "for n in response.source_nodes:\n",
    "    display_source_node(n, source_length=20000)\n"
   ]
  },
  {
   "cell_type": "code",
   "execution_count": null,
   "metadata": {},
   "outputs": [],
   "source": []
  }
 ],
 "metadata": {
  "kernelspec": {
   "display_name": "venv",
   "language": "python",
   "name": "python3"
  },
  "language_info": {
   "codemirror_mode": {
    "name": "ipython",
    "version": 3
   },
   "file_extension": ".py",
   "mimetype": "text/x-python",
   "name": "python",
   "nbconvert_exporter": "python",
   "pygments_lexer": "ipython3",
   "version": "3.13.1"
  }
 },
 "nbformat": 4,
 "nbformat_minor": 2
}
