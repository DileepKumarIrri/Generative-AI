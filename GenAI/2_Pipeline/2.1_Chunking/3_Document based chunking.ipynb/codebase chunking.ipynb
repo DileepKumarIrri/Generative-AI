{
 "cells": [
  {
   "cell_type": "markdown",
   "metadata": {},
   "source": [
    "| **Category**                       | **Languages**                                                                 |\n",
    "|-------------------------------------|-------------------------------------------------------------------------------|\n",
    "| **Compiled Languages**              | C++, Go, Java, Kotlin, Rust, C, COBOL                                          |\n",
    "| **Interpreted Languages**           | Python, Ruby, Perl, Lua, PowerShell                                           |\n",
    "| **Scripting Languages**             | JavaScript (JS), TypeScript (TS), PHP, Shell Scripting, Elixir                 |\n",
    "| **Markup/Formatting Languages**     | Markdown, LaTeX, HTML                                                          |\n",
    "| **Functional and Declarative**      | Haskell, Scala, Elixir                                                         |\n",
    "| **Specialized Languages**           | Protocol Buffers (Proto), Solidity (SOL), RST (reStructuredText)              |\n",
    "| **Object-Oriented Languages**       | Java, C#, Swift, Ruby, Python                                                 |"
   ]
  },
  {
   "cell_type": "code",
   "execution_count": 1,
   "metadata": {},
   "outputs": [],
   "source": [
    "! pip install -qU langchain-text-splitters"
   ]
  },
  {
   "cell_type": "markdown",
   "metadata": {},
   "source": [
    "- Full list of supported languages"
   ]
  },
  {
   "cell_type": "code",
   "execution_count": 2,
   "metadata": {},
   "outputs": [
    {
     "name": "stdout",
     "output_type": "stream",
     "text": [
      "['cpp', 'go', 'java', 'kotlin', 'js', 'ts', 'php', 'proto', 'python', 'rst', 'ruby', 'rust', 'scala', 'swift', 'markdown', 'latex', 'html', 'sol', 'csharp', 'cobol', 'c', 'lua', 'perl', 'haskell', 'elixir', 'powershell']\n"
     ]
    }
   ],
   "source": [
    "from langchain_text_splitters import (Language, RecursiveCharacterTextSplitter)\n",
    "\n",
    "supported_languages = [e.value for e in Language]\n",
    "print(supported_languages)"
   ]
  },
  {
   "cell_type": "markdown",
   "metadata": {},
   "source": [
    "- You can also see the separators used for a given language"
   ]
  },
  {
   "cell_type": "code",
   "execution_count": 3,
   "metadata": {},
   "outputs": [
    {
     "data": {
      "text/plain": [
       "['\\n#{1,6} ',\n",
       " '```\\n',\n",
       " '\\n\\\\*\\\\*\\\\*+\\n',\n",
       " '\\n---+\\n',\n",
       " '\\n___+\\n',\n",
       " '\\n\\n',\n",
       " '\\n',\n",
       " ' ',\n",
       " '']"
      ]
     },
     "execution_count": 3,
     "metadata": {},
     "output_type": "execute_result"
    }
   ],
   "source": [
    "RecursiveCharacterTextSplitter.get_separators_for_language(Language.MARKDOWN)"
   ]
  },
  {
   "cell_type": "code",
   "execution_count": 4,
   "metadata": {},
   "outputs": [
    {
     "name": "stdout",
     "output_type": "stream",
     "text": [
      "Total number of chunks is: 2\n",
      "First chunk:\n",
      " def hello_world():\n",
      "    print(\"Hello, World!\")\n",
      "Maximum chunk size: 45\n",
      "Minimum chunk size: 33\n"
     ]
    }
   ],
   "source": [
    "from langchain_text_splitters import (Language, RecursiveCharacterTextSplitter)\n",
    "from datetime import datetime\n",
    "\n",
    "# Step 1: Define the Python code to be split into chunks\n",
    "PYTHON_CODE = \"\"\"\n",
    "def hello_world():\n",
    "    print(\"Hello, World!\")\n",
    "\n",
    "# Call the function\n",
    "hello_world()\n",
    "\"\"\"\n",
    "\n",
    "# Step 2: Initialize the text splitter for Python\n",
    "python_splitter = RecursiveCharacterTextSplitter.from_language(\n",
    "    language=Language.PYTHON,  # Specify the language as Python\n",
    "    chunk_size=50,            # Define the maximum size of each chunk\n",
    "    chunk_overlap=0           # Define the overlap size between chunks\n",
    ")\n",
    "\n",
    "# Step 3: Split the code into chunks\n",
    "chunks_without_metadata = python_splitter.split_text(PYTHON_CODE)\n",
    "\n",
    "# Step 4: Add metadata to each chunk\n",
    "metadata = []\n",
    "for idx, chunk in enumerate(chunks_without_metadata):\n",
    "    chunk_metadata = {\n",
    "        \"document_id\": \"Python_Code_Snippet\",  # Name/ID for the code snippet\n",
    "        \"chunk_index\": idx + 1,               # Index of the chunk (starting from 1)\n",
    "        \"text_length\": len(chunk),            # Length of the chunk\n",
    "        \"start_position\": sum(len(c) for c in chunks_without_metadata[:idx]),  # Start position of the chunk\n",
    "        \"end_position\": sum(len(c) for c in chunks_without_metadata[:idx+1]),  # End position of the chunk\n",
    "        \"language\": \"Python\",                 # Programming language of the code\n",
    "        \"timestamp\": datetime.now().isoformat()  # Current timestamp in ISO 8601 format\n",
    "    }\n",
    "    metadata.append(chunk_metadata)\n",
    "\n",
    "# Step 5: Combine the chunks with their metadata\n",
    "python_docs = python_splitter.create_documents([PYTHON_CODE], metadatas=metadata)\n",
    "chunks=python_docs\n",
    "\n",
    "# Step 6: Print details about the chunks\n",
    "print('Total number of chunks is:', len(chunks))  # Total number of chunks\n",
    "print('First chunk:\\n',chunks[0].page_content[-150:])  # Display the last 150 characters of the first chunk\n",
    "\n",
    "# Step 7: Analyze chunk sizes\n",
    "chunk_sizes = [len(chunk.page_content) for chunk in chunks]  # Calculate sizes of all chunks\n",
    "print('Maximum chunk size:', max(chunk_sizes))  # Print the largest chunk size\n",
    "print('Minimum chunk size:', min(chunk_sizes))  # Print the smallest chunk size\n"
   ]
  }
 ],
 "metadata": {
  "kernelspec": {
   "display_name": "venv",
   "language": "python",
   "name": "python3"
  },
  "language_info": {
   "codemirror_mode": {
    "name": "ipython",
    "version": 3
   },
   "file_extension": ".py",
   "mimetype": "text/x-python",
   "name": "python",
   "nbconvert_exporter": "python",
   "pygments_lexer": "ipython3",
   "version": "3.13.1"
  }
 },
 "nbformat": 4,
 "nbformat_minor": 2
}
